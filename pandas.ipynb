{
 "cells": [
  {
   "cell_type": "markdown",
   "id": "eee5cba1-637c-438c-b506-7bd54e3d7695",
   "metadata": {},
   "source": [
    "### PANDAS--> Pandas is a Python library used for data manipulation and analysis. It is especially useful for working with structured data like tables (like excel)\n",
    "\n",
    "### it uses the power and speed of numpy to make data analysis and preprocessing easy for data scientists."
   ]
  },
  {
   "cell_type": "markdown",
   "id": "69eca1c0-d49b-44d3-98ed-aea66a074067",
   "metadata": {},
   "source": [
    "### \"PANDAS HAS TWO TYPES OF DATA STRUCTURES :\"\n",
    "###  a> Series--> A one-dimensional labeled array with indexes (like a column in table).\n",
    "                  # Can store integers, floats, strings\n",
    "###  b> DataFrame--> It's a tabular spreadsheet like structure representing rows each                         of which contains one or more columns.(2-dimensional)\n",
    "                            "
   ]
  },
  {
   "cell_type": "code",
   "execution_count": 2,
   "id": "ca38499a-01f5-425a-ad97-a7b5787bc4f9",
   "metadata": {},
   "outputs": [
    {
     "name": "stdout",
     "output_type": "stream",
     "text": [
      "0    10\n",
      "1    20\n",
      "2    30\n",
      "3    40\n",
      "dtype: int64\n"
     ]
    }
   ],
   "source": [
    "import pandas as pd\n",
    "s = pd.Series([10, 20, 30, 40]) \n",
    "print(s)\n",
    "\n",
    "# why dtype is getting printed ?\n",
    "  #dtype is printed to show the data type of the Series or column,\n",
    "   #so you know what kind of values it holds (like integer, float, string). "
   ]
  },
  {
   "cell_type": "code",
   "execution_count": 6,
   "id": "ebcdd1ec-3b61-44f3-ba70-97c21e49e731",
   "metadata": {},
   "outputs": [
    {
     "data": {
      "text/html": [
       "<div>\n",
       "<style scoped>\n",
       "    .dataframe tbody tr th:only-of-type {\n",
       "        vertical-align: middle;\n",
       "    }\n",
       "\n",
       "    .dataframe tbody tr th {\n",
       "        vertical-align: top;\n",
       "    }\n",
       "\n",
       "    .dataframe thead th {\n",
       "        text-align: right;\n",
       "    }\n",
       "</style>\n",
       "<table border=\"1\" class=\"dataframe\">\n",
       "  <thead>\n",
       "    <tr style=\"text-align: right;\">\n",
       "      <th></th>\n",
       "      <th>name</th>\n",
       "      <th>marks</th>\n",
       "      <th>city</th>\n",
       "    </tr>\n",
       "  </thead>\n",
       "  <tbody>\n",
       "    <tr>\n",
       "      <th>0</th>\n",
       "      <td>bheem</td>\n",
       "      <td>92</td>\n",
       "      <td>hastinapur</td>\n",
       "    </tr>\n",
       "    <tr>\n",
       "      <th>1</th>\n",
       "      <td>nakul</td>\n",
       "      <td>76</td>\n",
       "      <td>madrapur</td>\n",
       "    </tr>\n",
       "    <tr>\n",
       "      <th>2</th>\n",
       "      <td>krishna</td>\n",
       "      <td>98</td>\n",
       "      <td>mathura</td>\n",
       "    </tr>\n",
       "    <tr>\n",
       "      <th>3</th>\n",
       "      <td>Arjun</td>\n",
       "      <td>54</td>\n",
       "      <td>panchal</td>\n",
       "    </tr>\n",
       "  </tbody>\n",
       "</table>\n",
       "</div>"
      ],
      "text/plain": [
       "      name  marks        city\n",
       "0    bheem     92  hastinapur\n",
       "1    nakul     76    madrapur\n",
       "2  krishna     98     mathura\n",
       "3    Arjun     54     panchal"
      ]
     },
     "execution_count": 6,
     "metadata": {},
     "output_type": "execute_result"
    }
   ],
   "source": [
    "dict1 = {\n",
    "    \"name\": ['bheem', 'nakul', 'krishna', 'Arjun'],\n",
    "    \"marks\": [92, 76, 98, 54],\n",
    "    \"city\": ['hastinapur', 'madrapur', 'mathura', 'panchal']\n",
    "  }   \n",
    "\n",
    "df = pd.DataFrame(dict1)  #df is a Pandas DataFrame, which is like a table or spreadsheet in Python\n",
    "df"
   ]
  },
  {
   "cell_type": "code",
   "execution_count": 8,
   "id": "82fa8952-33ae-484c-bdc9-4b51c884d8aa",
   "metadata": {},
   "outputs": [],
   "source": [
    "df.to_csv('friends.csv')"
   ]
  },
  {
   "cell_type": "code",
   "execution_count": 9,
   "id": "844fc364-dad2-451e-9317-0b843e7bb165",
   "metadata": {},
   "outputs": [],
   "source": [
    "df.to_csv('friends_index_false.csv', index=False)\n",
    "\n",
    " #By default, Pandas writes the row index (0,1,2,…) to the CSV.\n",
    " #index=False tells Pandas not to write the index in the CSV."
   ]
  },
  {
   "cell_type": "code",
   "execution_count": 12,
   "id": "4e156c45-94e6-4ec3-9c9c-8d6779eef917",
   "metadata": {},
   "outputs": [
    {
     "data": {
      "text/html": [
       "<div>\n",
       "<style scoped>\n",
       "    .dataframe tbody tr th:only-of-type {\n",
       "        vertical-align: middle;\n",
       "    }\n",
       "\n",
       "    .dataframe tbody tr th {\n",
       "        vertical-align: top;\n",
       "    }\n",
       "\n",
       "    .dataframe thead th {\n",
       "        text-align: right;\n",
       "    }\n",
       "</style>\n",
       "<table border=\"1\" class=\"dataframe\">\n",
       "  <thead>\n",
       "    <tr style=\"text-align: right;\">\n",
       "      <th></th>\n",
       "      <th>name</th>\n",
       "      <th>marks</th>\n",
       "      <th>city</th>\n",
       "    </tr>\n",
       "  </thead>\n",
       "  <tbody>\n",
       "    <tr>\n",
       "      <th>0</th>\n",
       "      <td>bheem</td>\n",
       "      <td>92</td>\n",
       "      <td>hastinapur</td>\n",
       "    </tr>\n",
       "    <tr>\n",
       "      <th>1</th>\n",
       "      <td>nakul</td>\n",
       "      <td>76</td>\n",
       "      <td>madrapur</td>\n",
       "    </tr>\n",
       "  </tbody>\n",
       "</table>\n",
       "</div>"
      ],
      "text/plain": [
       "    name  marks        city\n",
       "0  bheem     92  hastinapur\n",
       "1  nakul     76    madrapur"
      ]
     },
     "execution_count": 12,
     "metadata": {},
     "output_type": "execute_result"
    }
   ],
   "source": [
    "df.head(2) # shows starting two rows."
   ]
  },
  {
   "cell_type": "code",
   "execution_count": 13,
   "id": "f2f7662d-9e7e-4d82-9b06-2e4d99feeed1",
   "metadata": {},
   "outputs": [
    {
     "data": {
      "text/html": [
       "<div>\n",
       "<style scoped>\n",
       "    .dataframe tbody tr th:only-of-type {\n",
       "        vertical-align: middle;\n",
       "    }\n",
       "\n",
       "    .dataframe tbody tr th {\n",
       "        vertical-align: top;\n",
       "    }\n",
       "\n",
       "    .dataframe thead th {\n",
       "        text-align: right;\n",
       "    }\n",
       "</style>\n",
       "<table border=\"1\" class=\"dataframe\">\n",
       "  <thead>\n",
       "    <tr style=\"text-align: right;\">\n",
       "      <th></th>\n",
       "      <th>name</th>\n",
       "      <th>marks</th>\n",
       "      <th>city</th>\n",
       "    </tr>\n",
       "  </thead>\n",
       "  <tbody>\n",
       "    <tr>\n",
       "      <th>2</th>\n",
       "      <td>krishna</td>\n",
       "      <td>98</td>\n",
       "      <td>mathura</td>\n",
       "    </tr>\n",
       "    <tr>\n",
       "      <th>3</th>\n",
       "      <td>Arjun</td>\n",
       "      <td>54</td>\n",
       "      <td>panchal</td>\n",
       "    </tr>\n",
       "  </tbody>\n",
       "</table>\n",
       "</div>"
      ],
      "text/plain": [
       "      name  marks     city\n",
       "2  krishna     98  mathura\n",
       "3    Arjun     54  panchal"
      ]
     },
     "execution_count": 13,
     "metadata": {},
     "output_type": "execute_result"
    }
   ],
   "source": [
    "df.tail(2) # shows ending two rows."
   ]
  },
  {
   "cell_type": "code",
   "execution_count": 14,
   "id": "ae190305-0e47-469f-89f4-33a312920c5e",
   "metadata": {},
   "outputs": [
    {
     "data": {
      "text/html": [
       "<div>\n",
       "<style scoped>\n",
       "    .dataframe tbody tr th:only-of-type {\n",
       "        vertical-align: middle;\n",
       "    }\n",
       "\n",
       "    .dataframe tbody tr th {\n",
       "        vertical-align: top;\n",
       "    }\n",
       "\n",
       "    .dataframe thead th {\n",
       "        text-align: right;\n",
       "    }\n",
       "</style>\n",
       "<table border=\"1\" class=\"dataframe\">\n",
       "  <thead>\n",
       "    <tr style=\"text-align: right;\">\n",
       "      <th></th>\n",
       "      <th>marks</th>\n",
       "    </tr>\n",
       "  </thead>\n",
       "  <tbody>\n",
       "    <tr>\n",
       "      <th>count</th>\n",
       "      <td>4.000000</td>\n",
       "    </tr>\n",
       "    <tr>\n",
       "      <th>mean</th>\n",
       "      <td>80.000000</td>\n",
       "    </tr>\n",
       "    <tr>\n",
       "      <th>std</th>\n",
       "      <td>19.663842</td>\n",
       "    </tr>\n",
       "    <tr>\n",
       "      <th>min</th>\n",
       "      <td>54.000000</td>\n",
       "    </tr>\n",
       "    <tr>\n",
       "      <th>25%</th>\n",
       "      <td>70.500000</td>\n",
       "    </tr>\n",
       "    <tr>\n",
       "      <th>50%</th>\n",
       "      <td>84.000000</td>\n",
       "    </tr>\n",
       "    <tr>\n",
       "      <th>75%</th>\n",
       "      <td>93.500000</td>\n",
       "    </tr>\n",
       "    <tr>\n",
       "      <th>max</th>\n",
       "      <td>98.000000</td>\n",
       "    </tr>\n",
       "  </tbody>\n",
       "</table>\n",
       "</div>"
      ],
      "text/plain": [
       "           marks\n",
       "count   4.000000\n",
       "mean   80.000000\n",
       "std    19.663842\n",
       "min    54.000000\n",
       "25%    70.500000\n",
       "50%    84.000000\n",
       "75%    93.500000\n",
       "max    98.000000"
      ]
     },
     "execution_count": 14,
     "metadata": {},
     "output_type": "execute_result"
    }
   ],
   "source": [
    "df.describe() #gives a quick statistical summary of the numeric columns in a DataFrame."
   ]
  },
  {
   "cell_type": "code",
   "execution_count": 21,
   "id": "2da17d13-299c-4e78-a3dd-6fc18e276da2",
   "metadata": {},
   "outputs": [
    {
     "data": {
      "text/html": [
       "<div>\n",
       "<style scoped>\n",
       "    .dataframe tbody tr th:only-of-type {\n",
       "        vertical-align: middle;\n",
       "    }\n",
       "\n",
       "    .dataframe tbody tr th {\n",
       "        vertical-align: top;\n",
       "    }\n",
       "\n",
       "    .dataframe thead th {\n",
       "        text-align: right;\n",
       "    }\n",
       "</style>\n",
       "<table border=\"1\" class=\"dataframe\">\n",
       "  <thead>\n",
       "    <tr style=\"text-align: right;\">\n",
       "      <th></th>\n",
       "      <th>Unnamed: 0</th>\n",
       "      <th>name</th>\n",
       "      <th>marks</th>\n",
       "      <th>city</th>\n",
       "    </tr>\n",
       "  </thead>\n",
       "  <tbody>\n",
       "    <tr>\n",
       "      <th>1st</th>\n",
       "      <td>0</td>\n",
       "      <td>bheem</td>\n",
       "      <td>34</td>\n",
       "      <td>hastinapur</td>\n",
       "    </tr>\n",
       "    <tr>\n",
       "      <th>2nd</th>\n",
       "      <td>1</td>\n",
       "      <td>nakul</td>\n",
       "      <td>76</td>\n",
       "      <td>madrapur</td>\n",
       "    </tr>\n",
       "    <tr>\n",
       "      <th>3rd</th>\n",
       "      <td>2</td>\n",
       "      <td>krishna</td>\n",
       "      <td>98</td>\n",
       "      <td>mathura</td>\n",
       "    </tr>\n",
       "    <tr>\n",
       "      <th>4th</th>\n",
       "      <td>3</td>\n",
       "      <td>Arjun</td>\n",
       "      <td>54</td>\n",
       "      <td>panchal</td>\n",
       "    </tr>\n",
       "  </tbody>\n",
       "</table>\n",
       "</div>"
      ],
      "text/plain": [
       "     Unnamed: 0     name  marks        city\n",
       "1st           0    bheem     34  hastinapur\n",
       "2nd           1    nakul     76    madrapur\n",
       "3rd           2  krishna     98     mathura\n",
       "4th           3    Arjun     54     panchal"
      ]
     },
     "execution_count": 21,
     "metadata": {},
     "output_type": "execute_result"
    }
   ],
   "source": [
    "friends.index = ['1st', '2nd', '3rd', '4th'] # changing of index numbers\n",
    "friends"
   ]
  },
  {
   "cell_type": "code",
   "execution_count": 25,
   "id": "585aaaf1-a912-426f-984d-c34af2f75a8b",
   "metadata": {},
   "outputs": [
    {
     "data": {
      "text/plain": [
       "pandas.core.series.Series"
      ]
     },
     "execution_count": 25,
     "metadata": {},
     "output_type": "execute_result"
    }
   ],
   "source": [
    "import numpy as np\n",
    "ser = pd.Series(np.random.rand(34))  \n",
    "type(ser)\n",
    "\n",
    "#np.random.rand(34) → generates 34 random numbers between 0 and 1 as a NumPy array.\n",
    "#pd.Series(...) → converts that array into a Pandas Series, which is a 1-dimensional labeled array with an automatic index from 0 to 33.\n",
    "#type(ser) → <class 'pandas.core.series.Series'>, meaning it’s now a Pandas object, not just a NumPy array."
   ]
  },
  {
   "cell_type": "code",
   "execution_count": 35,
   "id": "9fb75ee1-c23a-4a08-b786-83dffb5ef0b5",
   "metadata": {},
   "outputs": [
    {
     "data": {
      "text/html": [
       "<div>\n",
       "<style scoped>\n",
       "    .dataframe tbody tr th:only-of-type {\n",
       "        vertical-align: middle;\n",
       "    }\n",
       "\n",
       "    .dataframe tbody tr th {\n",
       "        vertical-align: top;\n",
       "    }\n",
       "\n",
       "    .dataframe thead th {\n",
       "        text-align: right;\n",
       "    }\n",
       "</style>\n",
       "<table border=\"1\" class=\"dataframe\">\n",
       "  <thead>\n",
       "    <tr style=\"text-align: right;\">\n",
       "      <th></th>\n",
       "      <th>C</th>\n",
       "      <th>D</th>\n",
       "    </tr>\n",
       "  </thead>\n",
       "  <tbody>\n",
       "    <tr>\n",
       "      <th>1</th>\n",
       "      <td>0.137706</td>\n",
       "      <td>0.764015</td>\n",
       "    </tr>\n",
       "    <tr>\n",
       "      <th>2</th>\n",
       "      <td>0.342464</td>\n",
       "      <td>0.644530</td>\n",
       "    </tr>\n",
       "  </tbody>\n",
       "</table>\n",
       "</div>"
      ],
      "text/plain": [
       "          C         D\n",
       "1  0.137706  0.764015\n",
       "2  0.342464  0.644530"
      ]
     },
     "execution_count": 35,
     "metadata": {},
     "output_type": "execute_result"
    }
   ],
   "source": [
    "import numpy as np\n",
    "#converts it into a DataFrame with 336 rows and 5 columns.\n",
    "newdf = pd.DataFrame(np.random.rand(3,4), index=np.arange(3))\n",
    "newdf\n",
    "type(newdf)  \n",
    "\n",
    "newdf.describe()\n",
    "\n",
    "newdf.dtypes\n",
    "\n",
    "newdf.shape\n",
    "\n",
    "newdf.head(5)   # first 5 rows\n",
    "newdf.tail(3)   # last 3 rows\n",
    "\n",
    "newdf.T  # transpose\n",
    "\n",
    "newdf.sort_index(axis=0, ascending=False)\n",
    "newdf2=newdf\n",
    " #newdf2[0][0]=5356\n",
    "#newdf\n",
    "\n",
    "newdf.loc[0,0]=56\n",
    "newdf.head(2)\n",
    "\n",
    "newdf.columns = list(\"ABCD\")\n",
    "newdf\n"
   ]
  },
  {
   "cell_type": "markdown",
   "id": "ccfd83d8-f5f4-4a2a-ad9d-feb6a4c239b0",
   "metadata": {},
   "source": [
    "### DATAFRAME CREATION--->"
   ]
  },
  {
   "cell_type": "code",
   "execution_count": 8,
   "id": "a752210f-1d73-459b-b069-f730d6aad645",
   "metadata": {},
   "outputs": [
    {
     "data": {
      "text/html": [
       "<div>\n",
       "<style scoped>\n",
       "    .dataframe tbody tr th:only-of-type {\n",
       "        vertical-align: middle;\n",
       "    }\n",
       "\n",
       "    .dataframe tbody tr th {\n",
       "        vertical-align: top;\n",
       "    }\n",
       "\n",
       "    .dataframe thead th {\n",
       "        text-align: right;\n",
       "    }\n",
       "</style>\n",
       "<table border=\"1\" class=\"dataframe\">\n",
       "  <thead>\n",
       "    <tr style=\"text-align: right;\">\n",
       "      <th></th>\n",
       "      <th>Name</th>\n",
       "      <th>Age</th>\n",
       "      <th>Sex</th>\n",
       "      <th>Pclass</th>\n",
       "    </tr>\n",
       "  </thead>\n",
       "  <tbody>\n",
       "    <tr>\n",
       "      <th>0</th>\n",
       "      <td>John</td>\n",
       "      <td>22.0</td>\n",
       "      <td>Male</td>\n",
       "      <td>3</td>\n",
       "    </tr>\n",
       "    <tr>\n",
       "      <th>1</th>\n",
       "      <td>Emma</td>\n",
       "      <td>28.0</td>\n",
       "      <td>Female</td>\n",
       "      <td>1</td>\n",
       "    </tr>\n",
       "    <tr>\n",
       "      <th>2</th>\n",
       "      <td>Sam</td>\n",
       "      <td>NaN</td>\n",
       "      <td>Male</td>\n",
       "      <td>3</td>\n",
       "    </tr>\n",
       "  </tbody>\n",
       "</table>\n",
       "</div>"
      ],
      "text/plain": [
       "   Name   Age     Sex  Pclass\n",
       "0  John  22.0    Male       3\n",
       "1  Emma  28.0  Female       1\n",
       "2   Sam   NaN    Male       3"
      ]
     },
     "execution_count": 8,
     "metadata": {},
     "output_type": "execute_result"
    }
   ],
   "source": [
    "import numpy as np\n",
    "import pandas as pd\n",
    "data = {\n",
    "    \"Name\": [\"John\", \"Emma\", \"Sam\"],\n",
    "    \"Age\": [22, 28, np.nan ],         #np.nan is a special value representing missing or \n",
    "                                       #undefined data in a DataFrame or array.\n",
    "    \"Sex\": [\"Male\", \"Female\", \"Male\"],\n",
    "    \"Pclass\": [3, 1, 3]\n",
    "}\n",
    "\n",
    "df = pd.DataFrame(data)\n",
    "df\n"
   ]
  },
  {
   "cell_type": "markdown",
   "id": "19dcea0c-c02c-457b-b4ea-058500de95a0",
   "metadata": {},
   "source": [
    "### INDEXING AND SLICING--->"
   ]
  },
  {
   "cell_type": "code",
   "execution_count": 13,
   "id": "d00d2298-23f4-4e55-858a-6b5329344dc1",
   "metadata": {},
   "outputs": [
    {
     "data": {
      "text/html": [
       "<div>\n",
       "<style scoped>\n",
       "    .dataframe tbody tr th:only-of-type {\n",
       "        vertical-align: middle;\n",
       "    }\n",
       "\n",
       "    .dataframe tbody tr th {\n",
       "        vertical-align: top;\n",
       "    }\n",
       "\n",
       "    .dataframe thead th {\n",
       "        text-align: right;\n",
       "    }\n",
       "</style>\n",
       "<table border=\"1\" class=\"dataframe\">\n",
       "  <thead>\n",
       "    <tr style=\"text-align: right;\">\n",
       "      <th></th>\n",
       "      <th>Name</th>\n",
       "      <th>Age</th>\n",
       "      <th>Sex</th>\n",
       "    </tr>\n",
       "  </thead>\n",
       "  <tbody>\n",
       "    <tr>\n",
       "      <th>1</th>\n",
       "      <td>Emma</td>\n",
       "      <td>28.0</td>\n",
       "      <td>Female</td>\n",
       "    </tr>\n",
       "    <tr>\n",
       "      <th>2</th>\n",
       "      <td>Sam</td>\n",
       "      <td>NaN</td>\n",
       "      <td>Male</td>\n",
       "    </tr>\n",
       "  </tbody>\n",
       "</table>\n",
       "</div>"
      ],
      "text/plain": [
       "   Name   Age     Sex\n",
       "1  Emma  28.0  Female\n",
       "2   Sam   NaN    Male"
      ]
     },
     "execution_count": 13,
     "metadata": {},
     "output_type": "execute_result"
    }
   ],
   "source": [
    "\n",
    "# Using .loc (label-based)           #df.loc → use labels (row labels, column names).\n",
    "df.loc[0:2, [\"Name\", \"Age\"]]          #0:2 → pick rows from label 0 through label 2 (inclusive).\n",
    "                                     #[\"Name\", \"Age\"] → pick only these two columns.\n",
    "\n",
    "# Using .iloc (position-based)\n",
    "df.iloc[1:4, 0:3]                  #[row_position, column_position]\n",
    "                                   "
   ]
  },
  {
   "cell_type": "markdown",
   "id": "1e40e47a-ea29-4a0f-ae3c-244f9b5766b4",
   "metadata": {},
   "source": [
    "### DATA CLEANING--->"
   ]
  },
  {
   "cell_type": "code",
   "execution_count": 20,
   "id": "695f6636-d737-4fd1-809f-9a7e0a5f13ec",
   "metadata": {},
   "outputs": [
    {
     "name": "stdout",
     "output_type": "stream",
     "text": [
      "     Name   Age     Sex Cabin  Fare\n",
      "0    John  22.0    Male   NaN   100\n",
      "1    Emma   NaN  Female  C123   200\n",
      "2     Sam  30.0    Male   NaN   150\n",
      "3  Olivia   NaN  Female   B45   250\n"
     ]
    },
    {
     "data": {
      "text/html": [
       "<div>\n",
       "<style scoped>\n",
       "    .dataframe tbody tr th:only-of-type {\n",
       "        vertical-align: middle;\n",
       "    }\n",
       "\n",
       "    .dataframe tbody tr th {\n",
       "        vertical-align: top;\n",
       "    }\n",
       "\n",
       "    .dataframe thead th {\n",
       "        text-align: right;\n",
       "    }\n",
       "</style>\n",
       "<table border=\"1\" class=\"dataframe\">\n",
       "  <thead>\n",
       "    <tr style=\"text-align: right;\">\n",
       "      <th></th>\n",
       "      <th>Name</th>\n",
       "      <th>Age</th>\n",
       "      <th>Sex</th>\n",
       "      <th>Fare</th>\n",
       "    </tr>\n",
       "  </thead>\n",
       "  <tbody>\n",
       "    <tr>\n",
       "      <th>0</th>\n",
       "      <td>John</td>\n",
       "      <td>22.0</td>\n",
       "      <td>Male</td>\n",
       "      <td>100</td>\n",
       "    </tr>\n",
       "    <tr>\n",
       "      <th>1</th>\n",
       "      <td>Emma</td>\n",
       "      <td>NaN</td>\n",
       "      <td>Female</td>\n",
       "      <td>200</td>\n",
       "    </tr>\n",
       "    <tr>\n",
       "      <th>2</th>\n",
       "      <td>Sam</td>\n",
       "      <td>30.0</td>\n",
       "      <td>Male</td>\n",
       "      <td>150</td>\n",
       "    </tr>\n",
       "    <tr>\n",
       "      <th>3</th>\n",
       "      <td>Olivia</td>\n",
       "      <td>NaN</td>\n",
       "      <td>Female</td>\n",
       "      <td>250</td>\n",
       "    </tr>\n",
       "  </tbody>\n",
       "</table>\n",
       "</div>"
      ],
      "text/plain": [
       "     Name   Age     Sex  Fare\n",
       "0    John  22.0    Male   100\n",
       "1    Emma   NaN  Female   200\n",
       "2     Sam  30.0    Male   150\n",
       "3  Olivia   NaN  Female   250"
      ]
     },
     "execution_count": 20,
     "metadata": {},
     "output_type": "execute_result"
    }
   ],
   "source": [
    "import pandas as pd\n",
    "import numpy as np\n",
    "\n",
    "data = {\n",
    "    \"Name\": [\"John\", \"Emma\", \"Sam\", \"Olivia\"],\n",
    "    \"Age\": [22, np.nan, 30, np.nan],\n",
    "    \"Sex\": [\"Male\", \"Female\", \"Male\", \"Female\"],\n",
    "    \"Cabin\": [np.nan, \"C123\", np.nan, \"B45\"],\n",
    "    \"Fare\": [100, 200, 150, 250]\n",
    "}\n",
    "\n",
    "df = pd.DataFrame(data)\n",
    "print(df)\n",
    "\n",
    "# Drop rows with NaN values\n",
    "#df.dropna()                 # Removes any row that has at least one NaN.\n",
    "\n",
    "# fillna() replaces missing values.\n",
    " df.fillna({\"Age\": df[\"Age\"].mean(), \"Cabin\": \"Unknown\"})\n",
    "      #Age--replace NaN with mean of available ages = (22 + 30) / 2 = 26.0 \n",
    "      #cabin-replace NaN with \"Unknown\"\n",
    "\n",
    "# Drop a column\n",
    "df.drop(\"Cabin\",axis=1)\n",
    "\n",
    "# Rename columns\n",
    "df.rename(columns={\"Sex\": \"Gender\", \"Fare\": \"TicketFare\"})\n"
   ]
  },
  {
   "cell_type": "markdown",
   "id": "d1629fd0-8287-4b2d-b015-549582e19f4e",
   "metadata": {},
   "source": [
    "### AGGREGATION--->"
   ]
  },
  {
   "cell_type": "code",
   "execution_count": null,
   "id": "4c786616-25eb-4ad8-ab57-4b6ea02b262f",
   "metadata": {},
   "outputs": [],
   "source": [
    "# Group by Gender and get mean Age\n",
    "df.groupby(\"Sex\")[\"Age\"].mean()\n",
    "\n",
    "# Sum of fares per class\n",
    "df.groupby(\"Pclass\")[\"Fare\"].sum()\n",
    "\n",
    "# Pivot Table\n",
    "pd.pivot_table(df, values=\"Fare\", index=\"Pclass\", columns=\"Sex\", aggfunc=\"mean\")\n"
   ]
  },
  {
   "cell_type": "markdown",
   "id": "6044e866-50ed-44bd-9037-475441f81705",
   "metadata": {},
   "source": [
    "### MERGING AND JOINING--->"
   ]
  },
  {
   "cell_type": "code",
   "execution_count": null,
   "id": "705a80d4-99c1-4fdd-9d3f-f4715f954a51",
   "metadata": {},
   "outputs": [],
   "source": [
    "extra = pd.DataFrame({\n",
    "    \"Name\": [\"John\", \"Emma\", \"Sophia\"],\n",
    "    \"City\": [\"NY\", \"London\", \"Paris\"]\n",
    "})\n",
    "\n",
    "# Merge on 'Name'\n",
    "pd.merge(df, extra, on=\"Name\", how=\"left\")\n"
   ]
  },
  {
   "cell_type": "markdown",
   "id": "ddbdc9ab-2f85-444c-83a3-abaad24140a8",
   "metadata": {},
   "source": [
    "### EXPORTING--->"
   ]
  },
  {
   "cell_type": "code",
   "execution_count": null,
   "id": "4fb090cd-372d-413c-a6ff-27038ace313b",
   "metadata": {},
   "outputs": [],
   "source": [
    "# To CSV\n",
    "df.to_csv(\"passengers.csv\", index=False)\n",
    "\n",
    "# To Excel\n",
    "df.to_excel(\"passengers.xlsx\", index=False)\n"
   ]
  }
 ],
 "metadata": {
  "kernelspec": {
   "display_name": "Python 3 (ipykernel)",
   "language": "python",
   "name": "python3"
  },
  "language_info": {
   "codemirror_mode": {
    "name": "ipython",
    "version": 3
   },
   "file_extension": ".py",
   "mimetype": "text/x-python",
   "name": "python",
   "nbconvert_exporter": "python",
   "pygments_lexer": "ipython3",
   "version": "3.13.5"
  }
 },
 "nbformat": 4,
 "nbformat_minor": 5
}
